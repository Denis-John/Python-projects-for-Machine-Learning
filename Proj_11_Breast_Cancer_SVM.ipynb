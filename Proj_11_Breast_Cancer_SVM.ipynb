{
 "cells": [
  {
   "cell_type": "code",
   "execution_count": 20,
   "id": "ae0b8b2f",
   "metadata": {},
   "outputs": [],
   "source": [
    "\n",
    "from sklearn import datasets\n",
    "from sklearn.model_selection import train_test_split\n",
    "from sklearn.metrics import confusion_matrix\n",
    "from sklearn.preprocessing import StandardScaler\n",
    "from sklearn.metrics import accuracy_score\n",
    "from sklearn.svm import SVC\n"
   ]
  },
  {
   "cell_type": "code",
   "execution_count": 6,
   "id": "5b7bdaa3",
   "metadata": {},
   "outputs": [],
   "source": [
    "bcancer=datasets.load_breast_cancer()"
   ]
  },
  {
   "cell_type": "code",
   "execution_count": 7,
   "id": "acbfd619",
   "metadata": {},
   "outputs": [],
   "source": [
    "X=bcancer.data\n",
    "Y=bcancer.target"
   ]
  },
  {
   "cell_type": "code",
   "execution_count": 8,
   "id": "9f826954",
   "metadata": {},
   "outputs": [],
   "source": [
    "scaler=StandardScaler()\n",
    "X=scaler.fit_transform(X)\n"
   ]
  },
  {
   "cell_type": "code",
   "execution_count": 9,
   "id": "e35db4b1",
   "metadata": {},
   "outputs": [],
   "source": [
    "Xtrain,Xtest,Ytrain,Ytest=train_test_split(X,Y,test_size=0.3,random_state=0)\n"
   ]
  },
  {
   "cell_type": "code",
   "execution_count": 10,
   "id": "3187fd92",
   "metadata": {},
   "outputs": [
    {
     "name": "stdout",
     "output_type": "stream",
     "text": [
      "Accuracy score of Linear SVM Classifier is  95.90643274853801 %\n"
     ]
    }
   ],
   "source": [
    "#linear svc\n",
    "svmc=SVC(kernel=\"linear\",random_state=0)\n",
    "svmc.fit(Xtrain,Ytrain)\n",
    "Ypred=svmc.predict(Xtest)\n",
    "svmcscore=accuracy_score(Ypred,Ytest)\n",
    "print(\"Accuracy score of Linear SVM Classifier is \",svmcscore*100,\"%\")"
   ]
  },
  {
   "cell_type": "code",
   "execution_count": 11,
   "id": "b8b4f1c7",
   "metadata": {},
   "outputs": [
    {
     "name": "stdout",
     "output_type": "stream",
     "text": [
      "Accuracy score of Kernel SVM Classifier is  97.6608187134503 %\n"
     ]
    }
   ],
   "source": [
    "#kernel svc\n",
    "ksvmc=SVC(kernel=\"rbf\",random_state=0)\n",
    "ksvmc.fit(Xtrain,Ytrain)\n",
    "Ypred=ksvmc.predict(Xtest)\n",
    "svmcscore=accuracy_score(Ypred,Ytest)\n",
    "print(\"Accuracy score of Kernel SVM Classifier is \",svmcscore*100,\"%\")"
   ]
  },
  {
   "cell_type": "code",
   "execution_count": 17,
   "id": "3b0b33a0",
   "metadata": {},
   "outputs": [
    {
     "data": {
      "text/plain": [
       "array(['mean radius', 'mean texture', 'mean perimeter', 'mean area',\n",
       "       'mean smoothness', 'mean compactness', 'mean concavity',\n",
       "       'mean concave points', 'mean symmetry', 'mean fractal dimension',\n",
       "       'radius error', 'texture error', 'perimeter error', 'area error',\n",
       "       'smoothness error', 'compactness error', 'concavity error',\n",
       "       'concave points error', 'symmetry error',\n",
       "       'fractal dimension error', 'worst radius', 'worst texture',\n",
       "       'worst perimeter', 'worst area', 'worst smoothness',\n",
       "       'worst compactness', 'worst concavity', 'worst concave points',\n",
       "       'worst symmetry', 'worst fractal dimension'], dtype='<U23')"
      ]
     },
     "execution_count": 17,
     "metadata": {},
     "output_type": "execute_result"
    }
   ],
   "source": [
    "bcancer.feature_names"
   ]
  },
  {
   "cell_type": "code",
   "execution_count": 18,
   "id": "4c9c3f01",
   "metadata": {},
   "outputs": [
    {
     "data": {
      "text/plain": [
       "array(['malignant', 'benign'], dtype='<U9')"
      ]
     },
     "execution_count": 18,
     "metadata": {},
     "output_type": "execute_result"
    }
   ],
   "source": [
    "bcancer.target_names"
   ]
  },
  {
   "cell_type": "code",
   "execution_count": null,
   "id": "b96d2df9",
   "metadata": {},
   "outputs": [],
   "source": []
  }
 ],
 "metadata": {
  "kernelspec": {
   "display_name": "Python 3 (ipykernel)",
   "language": "python",
   "name": "python3"
  },
  "language_info": {
   "codemirror_mode": {
    "name": "ipython",
    "version": 3
   },
   "file_extension": ".py",
   "mimetype": "text/x-python",
   "name": "python",
   "nbconvert_exporter": "python",
   "pygments_lexer": "ipython3",
   "version": "3.10.9"
  }
 },
 "nbformat": 4,
 "nbformat_minor": 5
}
