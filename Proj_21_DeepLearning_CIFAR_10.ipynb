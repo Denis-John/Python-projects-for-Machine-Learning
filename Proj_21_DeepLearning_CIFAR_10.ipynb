{
 "cells": [
  {
   "cell_type": "code",
   "execution_count": 1,
   "id": "74a55c24",
   "metadata": {},
   "outputs": [],
   "source": [
    "import tensorflow as tf\n",
    "from tensorflow import keras\n",
    "from keras.datasets import cifar10\n",
    "from keras.datasets import mnist\n",
    "from keras.layers import Conv2D, Flatten\n",
    "from keras.layers import MaxPooling2D\n",
    "from keras.optimizers import SGD\n",
    "import numpy as np\n",
    "import numpy.random as nr\n",
    "import matplotlib.pyplot as plt\n",
    "from keras.models import Sequential\n",
    "from keras.layers import Dense\n",
    "from sklearn.metrics import accuracy_score\n",
    "nc=10#Number of classes"
   ]
  },
  {
   "cell_type": "code",
   "execution_count": 2,
   "id": "a9671f05",
   "metadata": {},
   "outputs": [],
   "source": [
    "(Xtrain,ytrain),(Xtest,ytest)=cifar10.load_data()"
   ]
  },
  {
   "cell_type": "code",
   "execution_count": 6,
   "id": "46296180",
   "metadata": {},
   "outputs": [
    {
     "data": {
      "image/png": "[encoded data removed]",
      "text/plain": [
       "<Figure size 640x480 with 1 Axes>"
      ]
     },
     "metadata": {},
     "output_type": "display_data"
    }
   ],
   "source": [
    "#show sample images\n",
    "import random\n",
    "plt.figure(1)\n",
    "imgplot1=plt.imshow(Xtrain[random.randint(0,60000)])\n",
    "plt.show()"
   ]
  },
  {
   "cell_type": "code",
   "execution_count": 7,
   "id": "2d9ae5fb",
   "metadata": {},
   "outputs": [
    {
     "data": {
      "image/png": "[encoded data removed]",
      "text/plain": [
       "<Figure size 640x480 with 1 Axes>"
      ]
     },
     "metadata": {},
     "output_type": "display_data"
    }
   ],
   "source": [
    "import random\n",
    "plt.figure(2)\n",
    "imgplot1=plt.imshow(Xtrain[random.randint(0,60000)])\n",
    "plt.show()"
   ]
  },
  {
   "cell_type": "code",
   "execution_count": 3,
   "id": "47d998a7",
   "metadata": {},
   "outputs": [],
   "source": [
    "Xtrain=Xtrain.astype(\"float32\")\n",
    "Xtrain=Xtrain[0:20000,:]/255.0\n",
    "Xtest=Xtest.astype(\"float32\")\n",
    "Xtest=Xtest/255.0"
   ]
  },
  {
   "cell_type": "code",
   "execution_count": 4,
   "id": "4ca6bca6",
   "metadata": {},
   "outputs": [],
   "source": [
    "ytrain=ytrain[:,0]\n",
    "ytrainEnc=tf.one_hot(ytrain[0:20000],depth=nc)\n",
    "ytest=ytest[:,0]\n",
    "ytestEnc=tf.one_hot(ytest,depth=nc)"
   ]
  },
  {
   "cell_type": "code",
   "execution_count": 5,
   "id": "b6d4eb56",
   "metadata": {},
   "outputs": [],
   "source": [
    "model=Sequential()\n",
    "model.add(Conv2D(32,(3,3),activation=\"relu\",kernel_initializer=\"he_uniform\",padding=\"same\",input_shape=(32,32,3)))\n",
    "model.add(Conv2D(32,(3,3),activation=\"relu\",kernel_initializer=\"he_uniform\",padding=\"same\"))\n",
    "model.add(MaxPooling2D(2,2))\n",
    "model.add(Conv2D(64,(3,3),activation=\"relu\",kernel_initializer=\"he_uniform\",padding=\"same\"))\n",
    "model.add(Conv2D(64,(3,3),activation=\"relu\",kernel_initializer=\"he_uniform\",padding=\"same\"))\n",
    "model.add(MaxPooling2D(2,2))\n",
    "model.add(Conv2D(128,(3,3),activation=\"relu\",kernel_initializer=\"he_uniform\",padding=\"same\"))\n",
    "model.add(Conv2D(128,(3,3),activation=\"relu\",kernel_initializer=\"he_uniform\",padding=\"same\"))\n",
    "model.add(MaxPooling2D(2,2))\n",
    "model.add(Flatten())\n",
    "model.add(Dense(128,activation=\"relu\",kernel_initializer=\"he_uniform\"))\n",
    "model.add(Dense(10,activation=\"softmax\"))\n",
    "opt=SGD(learning_rate=0.001,momentum=0.9)\n",
    "model.compile(optimizer=opt,loss=\"categorical_crossentropy\",metrics=[\"accuracy\"])"
   ]
  },
  {
   "cell_type": "code",
   "execution_count": 6,
   "id": "55be645f",
   "metadata": {},
   "outputs": [
    {
     "name": "stdout",
     "output_type": "stream",
     "text": [
      "Epoch 1/10\n",
      "37/37 [==============================] - 229s 6s/step - loss: 2.2961 - accuracy: 0.1574 - val_loss: 2.1833 - val_accuracy: 0.2405\n",
      "Epoch 2/10\n",
      "37/37 [==============================] - 191s 5s/step - loss: 2.0957 - accuracy: 0.2641 - val_loss: 1.9903 - val_accuracy: 0.2879\n",
      "Epoch 3/10\n",
      "37/37 [==============================] - 208s 6s/step - loss: 1.9474 - accuracy: 0.3047 - val_loss: 1.9141 - val_accuracy: 0.3174\n",
      "Epoch 4/10\n",
      "37/37 [==============================] - 234s 6s/step - loss: 1.8709 - accuracy: 0.3379 - val_loss: 1.8284 - val_accuracy: 0.3569\n",
      "Epoch 5/10\n",
      "37/37 [==============================] - 223s 6s/step - loss: 1.7945 - accuracy: 0.3694 - val_loss: 1.7777 - val_accuracy: 0.3777\n",
      "Epoch 6/10\n",
      "37/37 [==============================] - 225s 6s/step - loss: 1.7422 - accuracy: 0.3843 - val_loss: 1.7125 - val_accuracy: 0.3971\n",
      "Epoch 7/10\n",
      "37/37 [==============================] - 248s 7s/step - loss: 1.6872 - accuracy: 0.4095 - val_loss: 1.6866 - val_accuracy: 0.4002\n",
      "Epoch 8/10\n",
      "37/37 [==============================] - 251s 7s/step - loss: 1.6391 - accuracy: 0.4202 - val_loss: 1.6228 - val_accuracy: 0.4207\n",
      "Epoch 9/10\n",
      "37/37 [==============================] - 248s 7s/step - loss: 1.5957 - accuracy: 0.4369 - val_loss: 1.5994 - val_accuracy: 0.4336\n",
      "Epoch 10/10\n",
      "37/37 [==============================] - 235s 6s/step - loss: 1.5676 - accuracy: 0.4427 - val_loss: 1.5788 - val_accuracy: 0.4280\n"
     ]
    }
   ],
   "source": [
    "history=model.fit(Xtrain,ytrainEnc,epochs=10,batch_size=550,validation_data=(Xtest,ytestEnc))"
   ]
  },
  {
   "cell_type": "code",
   "execution_count": 115,
   "id": "3eec2f4a",
   "metadata": {},
   "outputs": [
    {
     "data": {
      "text/plain": [
       "(10000, 32, 32, 3)"
      ]
     },
     "execution_count": 115,
     "metadata": {},
     "output_type": "execute_result"
    }
   ],
   "source": [
    "Xtest.shape"
   ]
  },
  {
   "cell_type": "code",
   "execution_count": 103,
   "id": "9697d4ec",
   "metadata": {},
   "outputs": [],
   "source": [
    "#Xtest=tf.reshape(Xtest,(Xtest.shape[0],-1))\n"
   ]
  },
  {
   "cell_type": "code",
   "execution_count": 105,
   "id": "265dcaa6",
   "metadata": {},
   "outputs": [],
   "source": [
    "#Xtest=tf.cast(Xtest,tf.float32)/255"
   ]
  },
  {
   "cell_type": "code",
   "execution_count": 112,
   "id": "83419ae9",
   "metadata": {},
   "outputs": [
    {
     "name": "stdout",
     "output_type": "stream",
     "text": [
      "313/313 [==============================] - 24s 77ms/step\n"
     ]
    }
   ],
   "source": [
    "ypred=model.predict(Xtest)\n",
    "ypred=np.argmax(ypred,axis=1)"
   ]
  },
  {
   "cell_type": "code",
   "execution_count": 56,
   "id": "84562da2",
   "metadata": {},
   "outputs": [
    {
     "data": {
      "text/plain": [
       "TensorShape([10000, 10])"
      ]
     },
     "execution_count": 56,
     "metadata": {},
     "output_type": "execute_result"
    }
   ],
   "source": [
    "yestEnc.shape"
   ]
  },
  {
   "cell_type": "code",
   "execution_count": 97,
   "id": "7f8cd9b6",
   "metadata": {},
   "outputs": [
    {
     "data": {
      "text/plain": [
       "(10000, 10)"
      ]
     },
     "execution_count": 97,
     "metadata": {},
     "output_type": "execute_result"
    }
   ],
   "source": [
    "ypred.shape"
   ]
  },
  {
   "cell_type": "code",
   "execution_count": 113,
   "id": "b26be355",
   "metadata": {},
   "outputs": [
    {
     "data": {
      "text/plain": [
       "37.64"
      ]
     },
     "execution_count": 113,
     "metadata": {},
     "output_type": "execute_result"
    }
   ],
   "source": [
    "score=accuracy_score(ypred,ytest)*100\n",
    "score"
   ]
  },
  {
   "cell_type": "code",
   "execution_count": 7,
   "id": "60b7239b",
   "metadata": {},
   "outputs": [],
   "source": [
    "classes = [\"airplane\", \"automobile\", \"bird\", \"cat\", \"deer\", \"dog\", \"frog\", \"horse\", \"ship\", \"truck\"]"
   ]
  },
  {
   "cell_type": "code",
   "execution_count": null,
   "id": "d3b4a641",
   "metadata": {},
   "outputs": [],
   "source": [
    "def plot_sample(X, y, idx):\n",
    "    plt.figure(figsize = (15,2))\n",
    "    plt.imshow(X[idx])\n",
    "    plt.xlabel(classes[y[idx]])"
   ]
  }
 ],
 "metadata": {
  "kernelspec": {
   "display_name": "Python 3 (ipykernel)",
   "language": "python",
   "name": "python3"
  },
  "language_info": {
   "codemirror_mode": {
    "name": "ipython",
    "version": 3
   },
   "file_extension": ".py",
   "mimetype": "text/x-python",
   "name": "python",
   "nbconvert_exporter": "python",
   "pygments_lexer": "ipython3",
   "version": "3.10.9"
  }
 },
 "nbformat": 4,
 "nbformat_minor": 5
}
